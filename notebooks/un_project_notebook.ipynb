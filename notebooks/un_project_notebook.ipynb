{
 "cells": [
  {
   "cell_type": "code",
   "execution_count": null,
   "id": "c5d19ef5",
   "metadata": {},
   "outputs": [],
   "source": [
    "import pandas as pd\n",
    "import matplotlib.pyplot as plt\n",
    "import numpy as np\n",
    "import seaborn as sns"
   ]
  },
  {
   "cell_type": "markdown",
   "id": "ea851516",
   "metadata": {},
   "source": [
    "# Question 4"
   ]
  },
  {
   "cell_type": "code",
   "execution_count": null,
   "id": "71c06461",
   "metadata": {},
   "outputs": [],
   "source": [
    "#4\n",
    "\n",
    "gdp_df = pd.read_csv('../data/gdp_percapita.csv')\n",
    "gdp_df"
   ]
  },
  {
   "cell_type": "markdown",
   "id": "b8bf21d6",
   "metadata": {},
   "source": [
    "# Question 5"
   ]
  },
  {
   "cell_type": "code",
   "execution_count": null,
   "id": "8ede70a2",
   "metadata": {},
   "outputs": [],
   "source": [
    "#5\n",
    "\n",
    "gdp_df.shape"
   ]
  },
  {
   "cell_type": "code",
   "execution_count": null,
   "id": "00984528",
   "metadata": {},
   "outputs": [],
   "source": [
    "gdp_df.dtypes"
   ]
  },
  {
   "cell_type": "code",
   "execution_count": null,
   "id": "395b4f2f",
   "metadata": {},
   "outputs": [],
   "source": [
    "type(gdp_df)"
   ]
  },
  {
   "cell_type": "markdown",
   "id": "fac35d9a",
   "metadata": {},
   "source": [
    "This dataframe has 7176 rows and 4 columns. Country contains strings (or objects), Year is an integer, Value is a float, and Value Footnoes are also floats."
   ]
  },
  {
   "cell_type": "markdown",
   "id": "9d1fbc37",
   "metadata": {},
   "source": [
    "# Question 6"
   ]
  },
  {
   "cell_type": "code",
   "execution_count": null,
   "id": "67b84024",
   "metadata": {},
   "outputs": [],
   "source": [
    "#6\n",
    "\n",
    "gdp_drop = gdp_df.drop(columns = 'Value Footnotes')\n",
    "# or gdp_df.drop(['Value Footnotes'], axis=1)\n",
    "gdp_drop\n",
    "# drop function has axis=0 as default (which refers to the rows not the columns)"
   ]
  },
  {
   "cell_type": "code",
   "execution_count": null,
   "id": "34870286",
   "metadata": {},
   "outputs": [],
   "source": [
    "gdp_drop.columns = ['Country', 'Year', 'GDP_Per_Capita']\n",
    "gdp_df = gdp_drop"
   ]
  },
  {
   "cell_type": "code",
   "execution_count": null,
   "id": "8f22dcae",
   "metadata": {},
   "outputs": [],
   "source": [
    "gdp_df"
   ]
  },
  {
   "cell_type": "markdown",
   "id": "17820034",
   "metadata": {},
   "source": [
    "# Question 7"
   ]
  },
  {
   "cell_type": "code",
   "execution_count": null,
   "id": "f1a6a7f1",
   "metadata": {
    "scrolled": true
   },
   "outputs": [],
   "source": [
    "#7\n",
    "\n",
    "year_count = gdp_df.Country.value_counts()"
   ]
  },
  {
   "cell_type": "code",
   "execution_count": null,
   "id": "290d3bc8",
   "metadata": {},
   "outputs": [],
   "source": [
    "type(year_count)"
   ]
  },
  {
   "cell_type": "code",
   "execution_count": null,
   "id": "f94a0031",
   "metadata": {},
   "outputs": [],
   "source": [
    "year_df = year_count.to_frame().reset_index()\n",
    "year_df"
   ]
  },
  {
   "cell_type": "code",
   "execution_count": null,
   "id": "450d56d8",
   "metadata": {},
   "outputs": [],
   "source": [
    "year_df.columns = ['Country', 'Number_of_Years']\n",
    "year_df"
   ]
  },
  {
   "cell_type": "code",
   "execution_count": null,
   "id": "9eeae693",
   "metadata": {
    "scrolled": false
   },
   "outputs": [],
   "source": [
    "year_df[year_df.Number_of_Years == year_df.Number_of_Years.max()]\n",
    "# countries that have data for all 31 years"
   ]
  },
  {
   "cell_type": "code",
   "execution_count": null,
   "id": "f5987885",
   "metadata": {},
   "outputs": [],
   "source": [
    "year_df[year_df.Number_of_Years <= 10]\n",
    "# countries with 10 or less years of data"
   ]
  },
  {
   "cell_type": "code",
   "execution_count": null,
   "id": "bbb3ecb9",
   "metadata": {},
   "outputs": [],
   "source": [
    "country_count = gdp_df.Year.value_counts()"
   ]
  },
  {
   "cell_type": "code",
   "execution_count": null,
   "id": "b00f4ffd",
   "metadata": {
    "scrolled": true
   },
   "outputs": [],
   "source": [
    "country_df = country_count.to_frame()\n",
    "country_df"
   ]
  },
  {
   "cell_type": "code",
   "execution_count": null,
   "id": "fb9db972",
   "metadata": {},
   "outputs": [],
   "source": [
    "country_df = country_df.reset_index()"
   ]
  },
  {
   "cell_type": "code",
   "execution_count": null,
   "id": "d637953e",
   "metadata": {
    "scrolled": true
   },
   "outputs": [],
   "source": [
    "country_df.columns = ['Year', 'Countries_Counted']\n",
    "country_df.sort_values(by = 'Countries_Counted', ascending=False)"
   ]
  },
  {
   "cell_type": "markdown",
   "id": "24fc6713",
   "metadata": {},
   "source": [
    "Over 200 countries have data for all 31 years (although some rows don't have country names, so it may be less than 200). Only 4 countries had 10 years or less of recorded data. When sorting the years by countries counted, the trend is that more countries were recorded every year until hitting a plateau in 2013, then decreasing slightly after 2018."
   ]
  },
  {
   "cell_type": "markdown",
   "id": "28384393",
   "metadata": {},
   "source": [
    "# Question 8"
   ]
  },
  {
   "cell_type": "code",
   "execution_count": null,
   "id": "dfbe1716",
   "metadata": {
    "scrolled": false
   },
   "outputs": [],
   "source": [
    "#8\n",
    "\n",
    "gdp_2020 = gdp_df[gdp_df.Year == 2020]"
   ]
  },
  {
   "cell_type": "code",
   "execution_count": null,
   "id": "71921a6a",
   "metadata": {},
   "outputs": [],
   "source": [
    "gdp_2020 = gdp_2020.reset_index(drop = True).drop(columns = 'Year')\n",
    "gdp_2020"
   ]
  },
  {
   "cell_type": "code",
   "execution_count": null,
   "id": "866d6717",
   "metadata": {},
   "outputs": [],
   "source": [
    "sns.displot(gdp_2020)"
   ]
  },
  {
   "cell_type": "code",
   "execution_count": null,
   "id": "42c6f06b",
   "metadata": {},
   "outputs": [],
   "source": [
    "sns.kdeplot(gdp_2020)"
   ]
  },
  {
   "cell_type": "code",
   "execution_count": null,
   "id": "2313ed46",
   "metadata": {},
   "outputs": [],
   "source": [
    "sns.boxplot(gdp_2020)"
   ]
  },
  {
   "cell_type": "code",
   "execution_count": null,
   "id": "239aad1d",
   "metadata": {},
   "outputs": [],
   "source": [
    "sns.violinplot(gdp_2020)"
   ]
  },
  {
   "cell_type": "markdown",
   "id": "d799da89",
   "metadata": {},
   "source": [
    "# Question 9"
   ]
  },
  {
   "cell_type": "code",
   "execution_count": null,
   "id": "3072f790",
   "metadata": {},
   "outputs": [],
   "source": [
    "#9\n",
    "\n",
    "round(np.median(gdp_2020.GDP_Per_Capita),2)"
   ]
  },
  {
   "cell_type": "markdown",
   "id": "d8675251",
   "metadata": {},
   "source": [
    "$12,988.94 is the median GDP in 2020"
   ]
  },
  {
   "cell_type": "markdown",
   "id": "3478fa80",
   "metadata": {},
   "source": [
    "# Question 10"
   ]
  },
  {
   "cell_type": "code",
   "execution_count": null,
   "id": "5830de04",
   "metadata": {},
   "outputs": [],
   "source": [
    "#10\n",
    "\n",
    "decades = [1990, 2000, 2010, 2020]\n",
    "gdp_decades = gdp_df[gdp_df.Year.isin(decades)] # .isin can be used to consolidate masks\n",
    "gdp_decades"
   ]
  },
  {
   "cell_type": "code",
   "execution_count": null,
   "id": "ee0c61c8",
   "metadata": {},
   "outputs": [],
   "source": [
    "sns.boxplot(x = 'Year',\n",
    "            y = 'GDP_Per_Capita',\n",
    "            data = gdp_decades)"
   ]
  },
  {
   "cell_type": "code",
   "execution_count": null,
   "id": "9d0042a0",
   "metadata": {
    "scrolled": true
   },
   "outputs": [],
   "source": [
    "sns.barplot(x = 'Year',\n",
    "            y = 'GDP_Per_Capita',\n",
    "            data = gdp_decades,\n",
    "            errorbar = None)"
   ]
  },
  {
   "cell_type": "code",
   "execution_count": null,
   "id": "3dc6c388",
   "metadata": {},
   "outputs": [],
   "source": [
    "sns.scatterplot(x = 'Year',\n",
    "                y = 'GDP_Per_Capita',\n",
    "                data = gdp_decades)"
   ]
  },
  {
   "cell_type": "code",
   "execution_count": null,
   "id": "06093b72",
   "metadata": {},
   "outputs": [],
   "source": [
    "sns.regplot(x= 'Year', y = 'GDP_Per_Capita', data = gdp_decades, line_kws = {'color':'g', 'alpha': 0.7, 'lw':4})"
   ]
  },
  {
   "cell_type": "markdown",
   "id": "8e455175",
   "metadata": {},
   "source": [
    "Generally, the GDP increases over time. The maximum GDP every decade, however, varies. The bar chart is the most straightfoward, but doesn't show the outliers since it only shows average/median. The box chart gives a better of idea where the median is, but isn't as easy to interpret. The scatterplots show the outliers clearly, but everything else blurs together."
   ]
  },
  {
   "cell_type": "markdown",
   "id": "960cd9af",
   "metadata": {},
   "source": [
    "# Question 11"
   ]
  },
  {
   "cell_type": "code",
   "execution_count": null,
   "id": "baddecfa",
   "metadata": {},
   "outputs": [],
   "source": [
    "#11\n",
    "\n",
    "gdp_chrono = gdp_df.sort_values(by = ['Year', 'Country'], ascending = True)\n",
    "gdp_chrono = gdp_chrono.reset_index(drop = True)\n",
    "gdp_chrono"
   ]
  },
  {
   "cell_type": "code",
   "execution_count": null,
   "id": "34ef88d2",
   "metadata": {
    "scrolled": true
   },
   "outputs": [],
   "source": [
    "first_6fig = gdp_chrono.loc[gdp_chrono.GDP_Per_Capita >= 100000]\n",
    "first_6fig = first_6fig.reset_index(drop = True)\n",
    "first_6fig.head(2)"
   ]
  },
  {
   "cell_type": "markdown",
   "id": "abeae8dc",
   "metadata": {},
   "source": [
    "The United Arab Emirates were the first to have a GDP per capita greater than $100,000."
   ]
  },
  {
   "cell_type": "markdown",
   "id": "815e5bfc",
   "metadata": {},
   "source": [
    "# Question 12"
   ]
  },
  {
   "cell_type": "code",
   "execution_count": null,
   "id": "4e6467b0",
   "metadata": {},
   "outputs": [],
   "source": [
    "#12\n",
    "\n",
    "max_filter = (gdp_2020.GDP_Per_Capita == gdp_2020.GDP_Per_Capita.max())\n",
    "gdp_2020_max = gdp_2020.loc[max_filter]\n",
    "round(gdp_2020_max,2)"
   ]
  },
  {
   "cell_type": "code",
   "execution_count": null,
   "id": "6dad386c",
   "metadata": {
    "scrolled": false
   },
   "outputs": [],
   "source": [
    "gdp_lux = gdp_df[gdp_df.Country == 'Luxembourg']\n",
    "lux_graph = sns.barplot(x = 'Year', y = 'GDP_Per_Capita', data = gdp_lux)\n",
    "\n",
    "var = lux_graph.set_xticklabels(lux_graph.get_xticklabels(), rotation=90) # this answer was found at:\n",
    "# https://stackoverflow.com/questions/57165540/hide-text-before-seaborn-barplot"
   ]
  },
  {
   "cell_type": "markdown",
   "id": "abf3ba3f",
   "metadata": {},
   "source": [
    "Luxembourg had the highest GDP per capita in 2020. However, 2020 was not their highest year in total."
   ]
  },
  {
   "cell_type": "markdown",
   "id": "f0359cef",
   "metadata": {},
   "source": [
    "# Question 13"
   ]
  },
  {
   "cell_type": "code",
   "execution_count": null,
   "id": "a32aad09",
   "metadata": {},
   "outputs": [],
   "source": [
    "#13\n",
    "\n",
    "min_filter = (gdp_2020.GDP_Per_Capita == gdp_2020.GDP_Per_Capita.min())\n",
    "gdp_2020_min = gdp_2020.loc[min_filter]\n",
    "gdp_2020_min"
   ]
  },
  {
   "cell_type": "code",
   "execution_count": null,
   "id": "6c076cbc",
   "metadata": {
    "scrolled": false
   },
   "outputs": [],
   "source": [
    "gdp_bur = gdp_df[gdp_df.Country == 'Burundi'].reset_index()\n",
    "bur_graph = sns.barplot(x = 'Year', y = 'GDP_Per_Capita', data = gdp_bur)\n",
    "\n",
    "var = bur_graph.set_xticklabels(bur_graph.get_xticklabels(), rotation=90)"
   ]
  },
  {
   "cell_type": "markdown",
   "id": "5afca67f",
   "metadata": {},
   "source": [
    "Burundi had the lowest GP in 2020. Back in the early 90's, it was considerably higher."
   ]
  },
  {
   "cell_type": "markdown",
   "id": "a6966660",
   "metadata": {},
   "source": [
    "# Question 13 Bonus"
   ]
  },
  {
   "cell_type": "code",
   "execution_count": null,
   "id": "a70ba5b0",
   "metadata": {
    "scrolled": false
   },
   "outputs": [],
   "source": [
    "#13 Bonus\n",
    "\n",
    "gdp_90 = gdp_df[gdp_df.Year == 1990].reset_index()\n",
    "countries_90 = gdp_90.Country\n",
    "countries_90"
   ]
  },
  {
   "cell_type": "code",
   "execution_count": null,
   "id": "bc9ae552",
   "metadata": {
    "scrolled": true
   },
   "outputs": [],
   "source": [
    "gdp_90_20 = gdp_df[gdp_df.Country.isin(countries_90) & gdp_df.Year.isin([1990,2020])].reset_index(drop = True)\n",
    "gdp_90_20"
   ]
  },
  {
   "cell_type": "code",
   "execution_count": null,
   "id": "72d50077",
   "metadata": {},
   "outputs": [],
   "source": [
    "v = gdp_90_20.Country.value_counts()\n",
    "gdp_90_20 = gdp_90_20[gdp_90_20.Country.isin(v.index[v.gt(1)])].reset_index(drop = True) # answer found on stack overflow\n",
    "# https://stackoverflow.com/questions/48628417/how-to-select-rows-in-pandas-dataframe-where-value-appears-more-than-once\n",
    "gdp_90_20"
   ]
  },
  {
   "cell_type": "code",
   "execution_count": null,
   "id": "64014937",
   "metadata": {
    "scrolled": false
   },
   "outputs": [],
   "source": [
    "# now, we look at group by\n",
    "gdp_diff = gdp_90_20.drop(columns = 'Year').groupby(['Country']).diff().fillna(0)\n",
    "gdp_diff"
   ]
  },
  {
   "cell_type": "code",
   "execution_count": null,
   "id": "c3be58d5",
   "metadata": {},
   "outputs": [],
   "source": [
    "gdp_90_20['GDP_diff'] = gdp_diff.GDP_Per_Capita\n",
    "gdp_90_20"
   ]
  },
  {
   "cell_type": "code",
   "execution_count": null,
   "id": "52459b57",
   "metadata": {},
   "outputs": [],
   "source": [
    "gdp_diff = gdp_90_20.loc[gdp_90_20.GDP_diff != 0].drop(columns = ['Year', 'GDP_Per_Capita'])\n",
    "gdp_diff"
   ]
  },
  {
   "cell_type": "code",
   "execution_count": null,
   "id": "36779733",
   "metadata": {},
   "outputs": [],
   "source": [
    "gdp_diff.loc[gdp_diff.GDP_diff < 0].reset_index(drop = True)"
   ]
  },
  {
   "cell_type": "code",
   "execution_count": null,
   "id": "ef91a6f7",
   "metadata": {
    "scrolled": true
   },
   "outputs": [],
   "source": [
    "gdp_diff.loc[gdp_diff.GDP_diff > 0].reset_index(drop = True)"
   ]
  },
  {
   "cell_type": "markdown",
   "id": "f89fc216",
   "metadata": {},
   "source": [
    "From the two dataframes above, there are many more countries that had a lower GDP in 2020 than in 1990 (183 compared to 21). From this, it's clear that it's not a general fact that countries don't have a higher GDP just because more time has passed."
   ]
  },
  {
   "cell_type": "markdown",
   "id": "e2e0a8a1",
   "metadata": {},
   "source": [
    "# Question 14"
   ]
  },
  {
   "cell_type": "code",
   "execution_count": null,
   "id": "ed5d7b12",
   "metadata": {},
   "outputs": [],
   "source": [
    "#14\n",
    "\n",
    "internet = pd.read_csv('../data/internet_use.csv', on_bad_lines='skip', nrows = 4495,\n",
    "                       dtype = {'Country or Area':object, 'Year':int, 'Value':float, 'Value Footnotes':object})\n",
    "internet"
   ]
  },
  {
   "cell_type": "code",
   "execution_count": null,
   "id": "a23a4017",
   "metadata": {},
   "outputs": [],
   "source": [
    "internet.dtypes"
   ]
  },
  {
   "cell_type": "markdown",
   "id": "b8b12d4b",
   "metadata": {},
   "source": [
    "# Question 15"
   ]
  },
  {
   "cell_type": "code",
   "execution_count": null,
   "id": "6546a117",
   "metadata": {},
   "outputs": [],
   "source": [
    "#15\n",
    "\n",
    "internet = internet.drop(columns = 'Value Footnotes')"
   ]
  },
  {
   "cell_type": "code",
   "execution_count": null,
   "id": "139f2653",
   "metadata": {},
   "outputs": [],
   "source": [
    "internet.columns = ['Country', 'Year', 'Internet_Users_Pct']\n",
    "internet"
   ]
  },
  {
   "cell_type": "markdown",
   "id": "232a150e",
   "metadata": {},
   "source": [
    "# Question 16"
   ]
  },
  {
   "cell_type": "code",
   "execution_count": null,
   "id": "221ceba8",
   "metadata": {
    "scrolled": true
   },
   "outputs": [],
   "source": [
    "#16\n",
    "\n",
    "internet_years = internet.Year.value_counts()\n",
    "internet_years"
   ]
  },
  {
   "cell_type": "markdown",
   "id": "884f5f29",
   "metadata": {},
   "source": [
    "While the 2000's have more consistent internet usage among countries, 1990 was the peak in terms of countries using internet."
   ]
  },
  {
   "cell_type": "markdown",
   "id": "f25c99c3",
   "metadata": {},
   "source": [
    "# Question 17"
   ]
  },
  {
   "cell_type": "code",
   "execution_count": null,
   "id": "c7272960",
   "metadata": {},
   "outputs": [],
   "source": [
    "#17\n",
    "\n",
    "int_chrono = internet.sort_values('Year', ascending = True).reset_index(drop = True)\n",
    "int_chrono = int_chrono[int_chrono.Internet_Users_Pct > 0].reset_index(drop = True)\n",
    "int_chrono.head(1)"
   ]
  },
  {
   "cell_type": "markdown",
   "id": "f8d5b70e",
   "metadata": {},
   "source": [
    "1990 was the first year where the was a non-zero percent in internet users."
   ]
  },
  {
   "cell_type": "markdown",
   "id": "ddc391de",
   "metadata": {},
   "source": [
    "# Question 18"
   ]
  },
  {
   "cell_type": "code",
   "execution_count": null,
   "id": "eb144464",
   "metadata": {},
   "outputs": [],
   "source": [
    "#18\n",
    "\n",
    "int_diff = internet.loc[internet.Year.isin([2000,2014])]\n",
    "int_diff"
   ]
  },
  {
   "cell_type": "code",
   "execution_count": null,
   "id": "8470cabd",
   "metadata": {},
   "outputs": [],
   "source": [
    "sns.scatterplot(x = 'Year', y = 'Internet_Users_Pct', data = int_diff)"
   ]
  },
  {
   "cell_type": "markdown",
   "id": "9cc4cac7",
   "metadata": {},
   "source": [
    "Generally, more countries were using the internet and the percentage for each country was larger in 2014."
   ]
  },
  {
   "cell_type": "markdown",
   "id": "8225fd3f",
   "metadata": {},
   "source": [
    "# Question 19"
   ]
  },
  {
   "cell_type": "code",
   "execution_count": null,
   "id": "1c5f7c37",
   "metadata": {
    "scrolled": true
   },
   "outputs": [],
   "source": [
    "#19\n",
    "\n",
    "below_5 = internet.loc[(internet.Year == 2014) & (internet.Internet_Users_Pct < 5)].reset_index(drop = True)\n",
    "below_5"
   ]
  },
  {
   "cell_type": "markdown",
   "id": "5b922c3a",
   "metadata": {},
   "source": [
    "16 countries had a percentage less than 5% in 2014."
   ]
  },
  {
   "cell_type": "markdown",
   "id": "c361abc3",
   "metadata": {},
   "source": [
    "# Question 20"
   ]
  },
  {
   "cell_type": "code",
   "execution_count": null,
   "id": "fb22f2cc",
   "metadata": {},
   "outputs": [],
   "source": [
    "#20\n",
    "\n",
    "gdp_and_internet_use = pd.concat([gdp_df, internet])\n",
    "gdp_and_internet_use"
   ]
  },
  {
   "cell_type": "markdown",
   "id": "48c79630",
   "metadata": {},
   "source": [
    "# Question 21"
   ]
  },
  {
   "cell_type": "code",
   "execution_count": null,
   "id": "0617e5f6",
   "metadata": {},
   "outputs": [],
   "source": [
    "#21\n",
    "\n",
    "top_int = gdp_and_internet_use.loc[gdp_and_internet_use.Year == 2014].reset_index(drop = True)\n",
    "top_int = top_int.sort_values('Internet_Users_Pct', ascending = False)\n",
    "top_int = top_int.head(3).reset_index(drop = True)\n",
    "top_int"
   ]
  },
  {
   "cell_type": "code",
   "execution_count": null,
   "id": "897d35cf",
   "metadata": {},
   "outputs": [],
   "source": [
    "gdp_top_int = gdp_and_internet_use.loc[gdp_and_internet_use.Country.isin(top_int.Country) & \n",
    "                                      (gdp_and_internet_use.GDP_Per_Capita > 0)] # gives only gdp column\n",
    "                                      #(gdp_and_internet_use.Year.isin([1990,2000,2010,2020]))]\n",
    "gdp_top_int = gdp_top_int.reset_index(drop = True)\n",
    "gdp_top_int"
   ]
  },
  {
   "cell_type": "code",
   "execution_count": null,
   "id": "1255666f",
   "metadata": {},
   "outputs": [],
   "source": [
    "graph = sns.FacetGrid(gdp_top_int, col = 'Country', col_wrap = 4) #, sharey = False)\n",
    "graph.map(sns.barplot, 'Year', 'GDP_Per_Capita')"
   ]
  },
  {
   "cell_type": "markdown",
   "id": "0b171b8a",
   "metadata": {},
   "source": [
    "There is a small peak for all of them in the late 2000's, then followed by a small dip, then a small increase."
   ]
  },
  {
   "cell_type": "markdown",
   "id": "0ead3226",
   "metadata": {},
   "source": [
    "# Question 22"
   ]
  },
  {
   "cell_type": "code",
   "execution_count": null,
   "id": "3d431fb8",
   "metadata": {},
   "outputs": [],
   "source": [
    "#22\n",
    "\n",
    "gdp_and_internet_use_2014 = pd.merge(gdp_df, internet, on = ['Country', 'Year'], how = 'inner')\n",
    "gdp_and_internet_use_2014 = gdp_and_internet_use_2014[gdp_and_internet_use_2014.Year == 2014].reset_index(drop = True)\n",
    "gdp_and_internet_use_2014"
   ]
  },
  {
   "cell_type": "markdown",
   "id": "699b754b",
   "metadata": {},
   "source": [
    "# Question 23"
   ]
  },
  {
   "cell_type": "code",
   "execution_count": null,
   "id": "9a6a787d",
   "metadata": {},
   "outputs": [],
   "source": [
    "#23\n",
    "\n",
    "sns.regplot(x = gdp_and_internet_use_2014['GDP_Per_Capita'], y = gdp_and_internet_use_2014['Internet_Users_Pct'])\n",
    "plt.ylim([0,100])"
   ]
  },
  {
   "cell_type": "code",
   "execution_count": null,
   "id": "3161e62c",
   "metadata": {},
   "outputs": [],
   "source": [
    "gdp_int_14 = gdp_and_internet_use_2014\n",
    "outlier1 = gdp_int_14.loc[(gdp_int_14.GDP_Per_Capita > 30000) & (gdp_int_14.Internet_Users_Pct < 22)]\n",
    "outlier1"
   ]
  },
  {
   "cell_type": "markdown",
   "id": "cd835ce2",
   "metadata": {},
   "source": [
    "Equatorial Guinea has the highest GDP for countries that have less than 20% internet users."
   ]
  },
  {
   "cell_type": "code",
   "execution_count": null,
   "id": "c420e8e1",
   "metadata": {},
   "outputs": [],
   "source": [
    "outlier2 = gdp_int_14.loc[(gdp_int_14.GDP_Per_Capita > 80000)]\n",
    "outlier2"
   ]
  },
  {
   "cell_type": "markdown",
   "id": "c283c55a",
   "metadata": {},
   "source": [
    "Luxembourg, Qatar, and Singapore all have the highest GDP's in 2014. However, most other countries that have 80% or more in internet users have a GDP of 40,000 - 50,000, not over 80,000."
   ]
  },
  {
   "cell_type": "code",
   "execution_count": null,
   "id": "b3f78703",
   "metadata": {
    "scrolled": true
   },
   "outputs": [],
   "source": [
    "outlier3 = gdp_int_14.loc[(gdp_int_14.GDP_Per_Capita < 25000) & (gdp_int_14.Internet_Users_Pct < 20)]\n",
    "outlier3.sort_values('GDP_Per_Capita', ascending = True).head(10)\n"
   ]
  },
  {
   "cell_type": "markdown",
   "id": "44768765",
   "metadata": {},
   "source": [
    "These 10 countries had the lowest GDP's and had very low internet users percentages. These do not fit into the average line projected by the scatter plot."
   ]
  },
  {
   "cell_type": "markdown",
   "id": "2a18401b",
   "metadata": {},
   "source": [
    "# Question 24"
   ]
  },
  {
   "cell_type": "code",
   "execution_count": null,
   "id": "e7098483",
   "metadata": {},
   "outputs": [],
   "source": [
    "#24\n",
    "\n",
    "gdp_cate = pd.qcut(gdp_int_14.GDP_Per_Capita, 3, labels = ['Low', 'Medium', 'High'])\n",
    "gdp_cate"
   ]
  },
  {
   "cell_type": "code",
   "execution_count": null,
   "id": "4f2988a9",
   "metadata": {},
   "outputs": [],
   "source": [
    "gdp_cate = gdp_cate.to_frame()\n",
    "gdp_cate.columns = ['GDP_group']\n",
    "gdp_cate"
   ]
  },
  {
   "cell_type": "code",
   "execution_count": null,
   "id": "21da8f9c",
   "metadata": {},
   "outputs": [],
   "source": [
    "gdp_int_cate = pd.merge(gdp_int_14, gdp_cate, left_index = True, right_index = True)\n",
    "#gdp_int_cate.columns = ['Country', 'Year', 'GDP_Per_Capita', 'Internet_Users_Pct', 'GDP_group']\n",
    "gdp_int_cate"
   ]
  },
  {
   "cell_type": "markdown",
   "id": "e2b811a2",
   "metadata": {},
   "source": [
    "# Question 25"
   ]
  },
  {
   "cell_type": "code",
   "execution_count": null,
   "id": "6d36b9c0",
   "metadata": {},
   "outputs": [],
   "source": [
    "#25\n",
    "\n",
    "median_low = np.median((gdp_int_cate[gdp_int_cate.GDP_group == 'Low']).Internet_Users_Pct)\n",
    "median_med = np.median((gdp_int_cate[gdp_int_cate.GDP_group == 'Medium']).Internet_Users_Pct)\n",
    "median_high = np.median((gdp_int_cate[gdp_int_cate.GDP_group == 'High']).Internet_Users_Pct)\n",
    "print('Low:',median_low, '\\tMedium:',median_med, '\\tHigh:',median_high)"
   ]
  },
  {
   "cell_type": "markdown",
   "id": "8469b972",
   "metadata": {},
   "source": [
    "The higher the GDP for the country, the higher the internet users percentage. Essentially, there is a positive correlation between the GDP and amount of people using the internet in a country."
   ]
  },
  {
   "cell_type": "code",
   "execution_count": null,
   "id": "43364ca6",
   "metadata": {},
   "outputs": [],
   "source": []
  }
 ],
 "metadata": {
  "kernelspec": {
   "display_name": "Python 3 (ipykernel)",
   "language": "python",
   "name": "python3"
  },
  "language_info": {
   "codemirror_mode": {
    "name": "ipython",
    "version": 3
   },
   "file_extension": ".py",
   "mimetype": "text/x-python",
   "name": "python",
   "nbconvert_exporter": "python",
   "pygments_lexer": "ipython3",
   "version": "3.11.4"
  }
 },
 "nbformat": 4,
 "nbformat_minor": 5
}
